{
 "cells": [
  {
   "cell_type": "code",
   "execution_count": null,
   "metadata": {},
   "outputs": [],
   "source": [
    "from bayes_opt import BayesianOptimization\n",
    "import numpy as np\n",
    "from  matplotlib import pyplot as plt\n",
    "from bayes_opt import UtilityFunction\n",
    "from bayes_opt.logger import JSONLogger\n",
    "from bayes_opt.event import Events\n",
    "from bayes_opt.util import load_logs\n",
    "from scipy.optimize import NonlinearConstraint\n",
    "pbounds = {'x': (2, 4), 'y': (-3, 3)}\n",
    "def target_function(x, y):\n",
    "    # Gardner is looking for the minimum, but this packages looks for maxima, thus the sign switch\n",
    "    return np.cos(2*x)*np.cos(y) + np.sin(x)\n",
    "\n",
    "def constraint_function_2_dim(x, y):\n",
    "    return np.array([\n",
    "        - np.cos(x) * np.cos(y) + np.sin(x) * np.sin(y),\n",
    "        - np.cos(x) * np.cos(-y) + np.sin(x) * np.sin(-y)])\n",
    "\n",
    "constraint_lower = np.array([-np.inf, -np.inf])\n",
    "constraint_upper = np.array([0.6, 0.6])\n",
    "\n",
    "constraint = NonlinearConstraint(constraint_function_2_dim, constraint_lower, constraint_upper)\n",
    "optimizer = BayesianOptimization(\n",
    "    f=target_function,\n",
    "    constraint=constraint,\n",
    "    pbounds=pbounds,\n",
    "    verbose=2, # verbose = 1 prints only when a maximum is observed, verbose = 0 is silent\n",
    "    random_state=1,\n",
    ")\n",
    "\n",
    "logger = JSONLogger(path=\"./logs.log\")\n",
    "optimizer.subscribe(Events.OPTIMIZATION_STEP, logger)\n",
    "acquision=UtilityFunction('ucb',kappa=2.5, xi=0.0)\n",
    "point=optimizer.suggest(acquision)\n",
    "y=target_function(point['x'],point['y'])\n",
    "c=constraint_function_2_dim(point['x'],point['y'])\n",
    "optimizer.register(params=point,target=y,constraint_value=c)"
   ]
  }
 ],
 "metadata": {
  "kernelspec": {
   "display_name": "Python 3",
   "language": "python",
   "name": "python3"
  },
  "language_info": {
   "codemirror_mode": {
    "name": "ipython",
    "version": 3
   },
   "file_extension": ".py",
   "mimetype": "text/x-python",
   "name": "python",
   "nbconvert_exporter": "python",
   "pygments_lexer": "ipython3",
   "version": "3.11.0"
  }
 },
 "nbformat": 4,
 "nbformat_minor": 2
}
